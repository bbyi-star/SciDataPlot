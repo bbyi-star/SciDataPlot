{
 "cells": [
  {
   "cell_type": "code",
   "execution_count": 1,
   "metadata": {},
   "outputs": [
    {
     "name": "stdout",
     "output_type": "stream",
     "text": [
      "当前工作目录 F:\\2022\\LiNa\\10000a0\\11\\OUTPUT\\\n"
     ]
    },
    {
     "ename": "NameError",
     "evalue": "name 'np' is not defined",
     "output_type": "error",
     "traceback": [
      "\u001b[1;31m---------------------------------------------------------------------------\u001b[0m",
      "\u001b[1;31mNameError\u001b[0m                                 Traceback (most recent call last)",
      "\u001b[1;32md:\\git\\SciDataPlot\\Python\\XYPLOT1.IPYNB Cell 1\u001b[0m in \u001b[0;36m<cell line: 45>\u001b[1;34m()\u001b[0m\n\u001b[0;32m     <a href='vscode-notebook-cell:/d%3A/git/SciDataPlot/Python/XYPLOT1.IPYNB#W0sZmlsZQ%3D%3D?line=42'>43</a>\u001b[0m y\u001b[39m=\u001b[39m\u001b[39minput\u001b[39m(\u001b[39m'\u001b[39m\u001b[39m输入y轴相关\u001b[39m\u001b[39m'\u001b[39m)\n\u001b[0;32m     <a href='vscode-notebook-cell:/d%3A/git/SciDataPlot/Python/XYPLOT1.IPYNB#W0sZmlsZQ%3D%3D?line=43'>44</a>\u001b[0m z\u001b[39m=\u001b[39m\u001b[39minput\u001b[39m(\u001b[39m'\u001b[39m\u001b[39m输出图片名\u001b[39m\u001b[39m'\u001b[39m)\n\u001b[1;32m---> <a href='vscode-notebook-cell:/d%3A/git/SciDataPlot/Python/XYPLOT1.IPYNB#W0sZmlsZQ%3D%3D?line=44'>45</a>\u001b[0m Gettl(in_dir,name,x,y,z)\u001b[39m.\u001b[39;49mxyplotd()\n\u001b[0;32m     <a href='vscode-notebook-cell:/d%3A/git/SciDataPlot/Python/XYPLOT1.IPYNB#W0sZmlsZQ%3D%3D?line=45'>46</a>\u001b[0m \u001b[39mprint\u001b[39m(\u001b[39mdir\u001b[39m(Gettl))\n",
      "\u001b[1;32md:\\git\\SciDataPlot\\Python\\XYPLOT1.IPYNB Cell 1\u001b[0m in \u001b[0;36mGettl.xyplotd\u001b[1;34m(self)\u001b[0m\n\u001b[0;32m     <a href='vscode-notebook-cell:/d%3A/git/SciDataPlot/Python/XYPLOT1.IPYNB#W0sZmlsZQ%3D%3D?line=23'>24</a>\u001b[0m \u001b[39mdef\u001b[39;00m \u001b[39mxyplotd\u001b[39m(\u001b[39mself\u001b[39m): \n\u001b[0;32m     <a href='vscode-notebook-cell:/d%3A/git/SciDataPlot/Python/XYPLOT1.IPYNB#W0sZmlsZQ%3D%3D?line=24'>25</a>\u001b[0m \u001b[39m# int_dir='D:\\\\doc\\\\data\\\\ion1test\\\\onepump2\\\\'\u001b[39;00m\n\u001b[0;32m     <a href='vscode-notebook-cell:/d%3A/git/SciDataPlot/Python/XYPLOT1.IPYNB#W0sZmlsZQ%3D%3D?line=25'>26</a>\u001b[0m     \u001b[39mif\u001b[39;00m os\u001b[39m.\u001b[39mpath\u001b[39m.\u001b[39mexists(\u001b[39mself\u001b[39m\u001b[39m.\u001b[39mdizhi\u001b[39m+\u001b[39m\u001b[39mself\u001b[39m\u001b[39m.\u001b[39mmingzi):\n\u001b[1;32m---> <a href='vscode-notebook-cell:/d%3A/git/SciDataPlot/Python/XYPLOT1.IPYNB#W0sZmlsZQ%3D%3D?line=26'>27</a>\u001b[0m         data\u001b[39m=\u001b[39mnp\u001b[39m.\u001b[39mloadtxt(\u001b[39mself\u001b[39m\u001b[39m.\u001b[39mdizhi\u001b[39m+\u001b[39m\u001b[39mself\u001b[39m\u001b[39m.\u001b[39mmingzi)\n\u001b[0;32m     <a href='vscode-notebook-cell:/d%3A/git/SciDataPlot/Python/XYPLOT1.IPYNB#W0sZmlsZQ%3D%3D?line=27'>28</a>\u001b[0m         \u001b[39m# plt.xlim(TimeTurn,TimeEnd)\u001b[39;00m\n\u001b[0;32m     <a href='vscode-notebook-cell:/d%3A/git/SciDataPlot/Python/XYPLOT1.IPYNB#W0sZmlsZQ%3D%3D?line=28'>29</a>\u001b[0m         plt\u001b[39m.\u001b[39mplot(data[:,\u001b[39m0\u001b[39m],data[:,\u001b[39m1\u001b[39m],\u001b[39m'\u001b[39m\u001b[39mk.\u001b[39m\u001b[39m'\u001b[39m)\u001b[39m#,data[:,0],data[:,2],'r-',data[:,0],1-data[:,1]-data[:,2],'b-')\u001b[39;00m\n",
      "\u001b[1;31mNameError\u001b[0m: name 'np' is not defined"
     ]
    }
   ],
   "source": [
    "class Gettl():\n",
    "    import os\n",
    "    import matplotlib.pyplot as plt\n",
    "    import numpy as np\n",
    "    def __init__(self,dizhi,mingzi,label_x,label_y,outname):\n",
    "        self.dizhi=dizhi\n",
    "        self.mingzi=mingzi\n",
    "        self.label_x=label_x\n",
    "        self.label_y=label_y\n",
    "        self.outname=outname\n",
    "    def xyplot(self): \n",
    "    # int_dir='D:\\\\doc\\\\data\\\\ion1test\\\\onepump2\\\\'\n",
    "        if os.path.exists(self.dizhi+self.mingzi):\n",
    "            data=np.loadtxt(self.dizhi+self.mingzi)\n",
    "            # plt.xlim(TimeTurn,TimeEnd)\n",
    "            plt.plot(data[:,0],data[:,1],'k-')#,data[:,0],data[:,2],'r-',data[:,0],1-data[:,1]-data[:,2],'b-')\n",
    "        # plt.legend([\"Gro\",\"Exc\",\"Ion\"],loc=(0.7,0.70))\n",
    "            plt.xlabel(self.label_x)\n",
    "            plt.ylabel(self.label_y)\n",
    "            out_dir=self.dizhi+'1.jpg'\n",
    "            plt.savefig(out_dir,dpi=600,bbox_inches=\"tight\")\n",
    "        else:\n",
    "            print(\"No dataset found.\")\n",
    "    def xyplotd(self): \n",
    "    # int_dir='D:\\\\doc\\\\data\\\\ion1test\\\\onepump2\\\\'\n",
    "        if os.path.exists(self.dizhi+self.mingzi):\n",
    "            data=np.loadtxt(self.dizhi+self.mingzi)\n",
    "            # plt.xlim(TimeTurn,TimeEnd)\n",
    "            plt.plot(data[:,0],data[:,1],'k.')#,data[:,0],data[:,2],'r-',data[:,0],1-data[:,1]-data[:,2],'b-')\n",
    "        # plt.legend([\"Gro\",\"Exc\",\"Ion\"],loc=(0.7,0.70))\n",
    "            plt.xlabel(self.label_x)\n",
    "            plt.ylabel(self.label_y)\n",
    "            out_dir=self.dizhi+self.outname\n",
    "            plt.savefig(out_dir,dpi=600,bbox_inches=\"tight\")\n",
    "        else:\n",
    "            print(\"No dataset found.\")    \n",
    "    \n",
    "\n",
    "in_dir='F:\\\\2022\\\\LiNa\\\\10000a0\\\\11\\\\OUTPUT\\\\'\n",
    "print('当前工作目录',in_dir)\n",
    "name=input('输入数据名字')\n",
    "x=input('输入x轴相关')\n",
    "y=input('输入y轴相关')\n",
    "z=input('输出图片名')\n",
    "Gettl(in_dir,name,x,y,z).xyplotd()\n",
    "print(dir(Gettl))"
   ]
  }
 ],
 "metadata": {
  "kernelspec": {
   "display_name": "Python 3.9.13 64-bit",
   "language": "python",
   "name": "python3"
  },
  "language_info": {
   "codemirror_mode": {
    "name": "ipython",
    "version": 3
   },
   "file_extension": ".py",
   "mimetype": "text/x-python",
   "name": "python",
   "nbconvert_exporter": "python",
   "pygments_lexer": "ipython3",
   "version": "3.9.13"
  },
  "orig_nbformat": 4,
  "vscode": {
   "interpreter": {
    "hash": "5addf786bcd861d1ce5006f23111f8cbb206731e5b61b0a5632ba9e0252558a8"
   }
  }
 },
 "nbformat": 4,
 "nbformat_minor": 2
}
