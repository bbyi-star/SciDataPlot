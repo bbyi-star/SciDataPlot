{
 "cells": [
  {
   "cell_type": "code",
   "execution_count": null,
   "metadata": {},
   "outputs": [],
   "source": [
    "class Gettl():\n",
    "    import os\n",
    "    import matplotlib.pyplot as plt\n",
    "    import numpy as np\n",
    "    def __init__(self,dizhi,mingzi,label_x,label_y,outname):\n",
    "        self.dizhi=dizhi\n",
    "        self.mingzi=mingzi\n",
    "        self.label_x=label_x\n",
    "        self.label_y=label_y\n",
    "        self.outname=outname\n",
    "    def xyplot(self): \n",
    "    # int_dir='D:\\\\doc\\\\data\\\\ion1test\\\\onepump2\\\\'\n",
    "        if os.path.exists(self.dizhi+self.mingzi):\n",
    "            data=np.loadtxt(self.dizhi+self.mingzi)\n",
    "            # plt.xlim(TimeTurn,TimeEnd)\n",
    "            plt.plot(data[:,0],data[:,1],'k-')#,data[:,0],data[:,2],'r-',data[:,0],1-data[:,1]-data[:,2],'b-')\n",
    "        # plt.legend([\"Gro\",\"Exc\",\"Ion\"],loc=(0.7,0.70))\n",
    "            plt.xlabel(self.label_x)\n",
    "            plt.ylabel(self.label_y)\n",
    "            out_dir=self.dizhi+'1.jpg'\n",
    "            plt.savefig(out_dir,dpi=600,bbox_inches=\"tight\")\n",
    "        else:\n",
    "            print(\"No dataset found.\")\n",
    "    def xyplotd(self): \n",
    "    # int_dir='D:\\\\doc\\\\data\\\\ion1test\\\\onepump2\\\\'\n",
    "        if os.path.exists(self.dizhi+self.mingzi):\n",
    "            data=np.loadtxt(self.dizhi+self.mingzi)\n",
    "            # plt.xlim(TimeTurn,TimeEnd)\n",
    "            plt.plot(data[:,0],data[:,1],'k.')#,data[:,0],data[:,2],'r-',data[:,0],1-data[:,1]-data[:,2],'b-')\n",
    "        # plt.legend([\"Gro\",\"Exc\",\"Ion\"],loc=(0.7,0.70))\n",
    "            plt.xlabel(self.label_x)\n",
    "            plt.ylabel(self.label_y)\n",
    "            out_dir=self.dizhi+self.outname\n",
    "            plt.savefig(out_dir,dpi=600,bbox_inches=\"tight\")\n",
    "        else:\n",
    "            print(\"No dataset found.\")    \n",
    "    \n",
    "\n",
    "in_dir='F:\\\\2022\\\\LiNa\\\\10000a0\\\\11\\\\OUTPUT\\\\'\n",
    "print('当前工作目录',in_dir)\n",
    "name=input('输入数据名字')\n",
    "x=input('输入x轴相关')\n",
    "y=input('输入y轴相关')\n",
    "z=input('输出图片名')\n",
    "Gettl(in_dir,name,x,y,z).xyplotd()\n",
    "print(dir(Gettl))"
   ]
  }
 ],
 "metadata": {
  "kernelspec": {
   "display_name": "Python 3.9.13 64-bit",
   "language": "python",
   "name": "python3"
  },
  "language_info": {
   "codemirror_mode": {
    "name": "ipython",
    "version": 3
   },
   "file_extension": ".py",
   "mimetype": "text/x-python",
   "name": "python",
   "nbconvert_exporter": "python",
   "pygments_lexer": "ipython3",
   "version": "3.9.13"
  },
  "orig_nbformat": 4,
  "vscode": {
   "interpreter": {
    "hash": "5addf786bcd861d1ce5006f23111f8cbb206731e5b61b0a5632ba9e0252558a8"
   }
  }
 },
 "nbformat": 4,
 "nbformat_minor": 2
}
