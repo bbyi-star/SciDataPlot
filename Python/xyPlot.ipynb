{
 "cells": [
  {
   "cell_type": "code",
   "execution_count": null,
   "metadata": {},
   "outputs": [],
   "source": [
    "import numpy as np\n",
    "import matplotlib.pyplot as plt\n",
    "import matplotlib as mpl\n",
    "from matplotlib.ticker import MultipleLocator\n",
    "import os\n",
    "plt.rcParams['ytick.right']  =plt.rcParams['xtick.top'] =True\n",
    "xminorLocator=MultipleLocator(2)\n",
    "# It's also possible to use the reduced notation by directly setting font.family:\n",
    "plt.rcParams.update({\n",
    "  \"text.usetex\": True,\n",
    "  \"font.family\": \"Time New Roman\",\n",
    "  #\"font.size\": 16,\n",
    "})\n",
    "def cm_to_inch(value):\n",
    "    return value/2.54\n",
    "#plt.rcParams['figure.figsize'] = (cm_to_inch(8), cm_to_inch(5))\n",
    "#plt.rcParams['figure.figsize'] =(8,5)#(3.5,2.5)\n",
    "#plt.rcParams['lines.linewidth'] = 1\n",
    "plt.rcParams['xtick.direction'] = 'in'\n",
    "plt.rcParams['ytick.direction'] = 'in'\n",
    "\n",
    "print('Working directory',dir)\n",
    "print(\"\\n\")\n",
    "#f=open(dir+\"alog.dat\",encoding=\"utf-8\")\n",
    "#print(f.read(1500))\n",
    "levels=100\n",
    "figureDPI=1200\n",
    "figureType=\"eps\"\n",
    "dir='C:\\\\Users\\\\DELL\\\\Desktop\\\\'"
   ]
  },
  {
   "cell_type": "code",
   "execution_count": null,
   "metadata": {},
   "outputs": [],
   "source": [
    "from scipy import interpolate\n",
    "data=np.loadtxt(dir+\"pop.dat\")\n",
    "x=data[:,0]\n",
    "y=data[:,1]\n",
    "x1=np.arange(10,151,1)\n",
    "print(len(x1))\n",
    "# fn=interpolate.interp1d(x,y,kind='nearest')\n",
    "# fz=interpolate.interp1d(x,y,kind='zero')\n",
    "# fs=interpolate.interp1d(x,y,kind='slinear')\n",
    "# fq=interpolate.interp1d(x,y,kind='quadratic')\n",
    "fc=interpolate.interp1d(x,y,kind='cubic')\n",
    "#method of kind: nearest, zero, slinear, quadratic,cubic\n",
    "y1=fc(x1)\n",
    "# y2=fz(x1)\n",
    "# y3=fs(x1)\n",
    "# y4=fq(x1)\n",
    "#y5=fc(x1)\n",
    "plt.plot(x,y,'.',x1,y1)#,x1,y2,x1,y3,x1,y4,x1,y5)\n",
    "#plt.legend([\"Origin\"])#,\"nearest\",\"zero\",\"slinear\",\"quadratic\",\"cubic\"])\n",
    "plt.xlabel(\"Delay time (fs)\")\n",
    "plt.ylabel(\"Poplation\")\n",
    "plt.savefig(dir+\"pop.\"+figureType,bbox_inches=\"tight\",dpi=figureDPI)"
   ]
  },
  {
   "cell_type": "code",
   "execution_count": null,
   "metadata": {},
   "outputs": [],
   "source": []
  }
 ],
 "metadata": {
  "kernelspec": {
   "display_name": "Python 3.9.0 64-bit",
   "language": "python",
   "name": "python3"
  },
  "language_info": {
   "codemirror_mode": {
    "name": "ipython",
    "version": 3
   },
   "file_extension": ".py",
   "mimetype": "text/x-python",
   "name": "python",
   "nbconvert_exporter": "python",
   "pygments_lexer": "ipython3",
   "version": "3.9.0"
  },
  "orig_nbformat": 4,
  "vscode": {
   "interpreter": {
    "hash": "5addf786bcd861d1ce5006f23111f8cbb206731e5b61b0a5632ba9e0252558a8"
   }
  }
 },
 "nbformat": 4,
 "nbformat_minor": 2
}
